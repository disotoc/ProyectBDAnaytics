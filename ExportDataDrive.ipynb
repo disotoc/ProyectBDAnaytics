{
 "cells": [
  {
   "cell_type": "code",
   "execution_count": 1,
   "metadata": {},
   "outputs": [],
   "source": [
    "import pandas as pd\n",
    "import numpy as np\n",
    "from datetime import datetime\n",
    "import locale\n",
    "locale.setlocale(locale.LC_ALL, 'es_ES') #Es necesario con \"_\", no con \"-\"\n",
    "from os import getcwd\n",
    "import pyodbc"
   ]
  },
  {
   "cell_type": "code",
   "execution_count": 25,
   "metadata": {},
   "outputs": [
    {
     "name": "stderr",
     "output_type": "stream",
     "text": [
      "C:\\Users\\diego\\AppData\\Local\\Temp\\ipykernel_9656\\1143406763.py:5: FutureWarning: The default value of regex will change from True to False in a future version. In addition, single character regular expressions will *not* be treated as literal strings when regex=True.\n",
      "  dropship[\"Po Item Sku\"] = dropship[\"Po Item Sku\"].str.replace(\"|\",\"\").astype(\"string\")\n"
     ]
    }
   ],
   "source": [
    "dropship = pd.read_excel('ExcelFiles\\Dropship.xlsx')\n",
    "dropship['Día de Order Date'] = dropship['Día de Order Date'].apply(lambda self: datetime.strptime(self,\"%d de %B de %Y\")).astype('datetime64[ns]')\n",
    "dropship['Día de Po Date'] = dropship['Día de Po Date'].apply(lambda self: datetime.strptime(self,\"%d de %B de %Y\")).astype('datetime64[ns]')\n",
    "dropship[\"Po Item Sku\"] = dropship[\"Po Item Sku\"].str.replace(\"|\",\"\").astype(\"string\")\n",
    "dropship[\"Po Item Sku\"] = dropship[\"Po Item Sku\"].str.replace(\"-EXPRESS\",\"\").astype(\"string\")\n",
    "dropship = dropship[(dropship.Client == 'Latam') | (dropship.Client == 'Latam CL') | (dropship.Client == 'Latam PE') | (dropship.Client == 'Latam CO')]\n",
    "dropship = dropship.drop(['Record Number'], axis=1)\n",
    "dropship = dropship[~dropship['Po Item Sku'].str.contains(\"sorteo\", case=False)]\n",
    "dropship.to_excel('BD_Analytics.xlsx', index = False)\n",
    "\n",
    "#dropship = dropship.drop(['Record Number',\n",
    "#                'Partner Ref',\n",
    "#                'Order Status',\n",
    "#                'Order Type',\n",
    "#                'Po Status',\n",
    "#                'Merchant',\n",
    "#                'Delivery Country',\n",
    "#                'Po Item Pricing Option',\n",
    "#                'Evoucher Code',\n",
    "#                'Client Managed',\n",
    "#                'Merchant Currency',\n",
    "#                'Client Currency',\n",
    "#                'Día de Refund Date',\n",
    "#                'Gross Order Value Client Currency',\n",
    "#                'Shipping Client Currency',\n",
    "#                'Buying Margin Client Currency',\n",
    "#                'Cost Price Client Currency',\n",
    "#                'Buying Commission Merchant Currency',\n",
    "#                'Cost Price Merchant Currency',\n",
    "#                'Net Price Merchant Currency',\n",
    "#                'Shipping Merchant Currency',\n",
    "#                'Gross Order Value Merchant Currency',\n",
    "#                'Merchant Tax Rate Percentage',\n",
    "#                'Product Multiplier',\n",
    "#                'Exchange Rate'], axis=1)\n",
    "\n",
    "#dropship['Día de Order Date','Día de Po Date'] = dropship['Día de Order Date','Día de Po Date'].apply(lambda self: datetime.strptime(self,\"%d de %B de %Y\"))"
   ]
  },
  {
   "cell_type": "code",
   "execution_count": 23,
   "metadata": {},
   "outputs": [
    {
     "data": {
      "text/plain": [
       "str"
      ]
     },
     "execution_count": 23,
     "metadata": {},
     "output_type": "execute_result"
    }
   ],
   "source": [
    "#dropship.dtypes\n",
    "type(skuExpress)"
   ]
  },
  {
   "cell_type": "code",
   "execution_count": 18,
   "metadata": {},
   "outputs": [
    {
     "name": "stdout",
     "output_type": "stream",
     "text": [
      "|\n"
     ]
    }
   ],
   "source": [
    "print(chr(124))"
   ]
  },
  {
   "cell_type": "code",
   "execution_count": 13,
   "metadata": {},
   "outputs": [],
   "source": [
    "dropship = dropship[~dropship['Po Item Sku'].str.contains(\"sorteo\", case=False)]"
   ]
  },
  {
   "cell_type": "code",
   "execution_count": 15,
   "metadata": {},
   "outputs": [],
   "source": [
    "dropship.to_excel('Output\\\\BD_Analytics.xlsx', index = False)"
   ]
  },
  {
   "cell_type": "code",
   "execution_count": null,
   "metadata": {},
   "outputs": [],
   "source": [
    "dropship = dropship.astype({'Client': 'string',\n",
    "                            'Cin': 'string',\n",
    "                            'Tier': 'string',\n",
    "                            'Po Item Sku': 'string', \n",
    "                            'Item Name': 'string', \n",
    "                            'Member First Name': 'string', \n",
    "                            'Member Surname': 'string', \n",
    "                            'Member Email': 'string', \n",
    "                            'Shipping Address': 'string', \n",
    "                            'Phone Number': 'string'})\n",
    "dropship.dtypes"
   ]
  },
  {
   "cell_type": "code",
   "execution_count": null,
   "metadata": {},
   "outputs": [],
   "source": [
    "conn = pyodbc.connect(\"Driver={Microsoft Access Driver (*.mdb, *.accdb)};DBQ=AccessFiles\\\\TestBDAnalytics.accdb;\")\n",
    "cursor = conn.cursor()\n",
    "#INSERT INTO CanjesAnalytics SELECT * FROM {dropship};\n",
    "#cursor.execute('SELECT * FROM tblProveedores') #Ejecuta una query\n",
    "cursor.execute('INSERT INTO CanjesAnalytics SELECT * FROM' & dropship &';')"
   ]
  }
 ],
 "metadata": {
  "kernelspec": {
   "display_name": "Python 3.10.5 64-bit (windows store)",
   "language": "python",
   "name": "python3"
  },
  "language_info": {
   "codemirror_mode": {
    "name": "ipython",
    "version": 3
   },
   "file_extension": ".py",
   "mimetype": "text/x-python",
   "name": "python",
   "nbconvert_exporter": "python",
   "pygments_lexer": "ipython3",
   "version": "3.10.5"
  },
  "orig_nbformat": 4,
  "vscode": {
   "interpreter": {
    "hash": "85aece5883f23cf93a903b25fd3f6a5833dab6da9d10cf403dbbc785be5e4181"
   }
  }
 },
 "nbformat": 4,
 "nbformat_minor": 2
}
